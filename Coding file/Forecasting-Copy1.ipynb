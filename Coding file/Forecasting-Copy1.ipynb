{
 "cells": [
  {
   "cell_type": "code",
   "execution_count": 1,
   "metadata": {},
   "outputs": [],
   "source": [
    "import pandas as pd #for data frame\n",
    "import numpy as np #maths\n",
    "import matplotlib.pyplot as plt #graph\n",
    "import seaborn as sns #graph\n",
    "# import re\n",
    "import time #time and date\n",
    "# from collections import Counter\n",
    "import itertools\n",
    "from statsmodels.tsa.seasonal import seasonal_decompose #decomposesion'seasonality and trend'\n",
    "from statsmodels.tsa.stattools import adfuller #'test'\n",
    "from statsmodels.tsa.arima_model import ARIMA #algoritham \n",
    "# from statsmodels.tsa.ar_model import AutoReg\n",
    "# from statsmodels.tsa.vector_ar.var_model import VAR\n",
    "from statsmodels.graphics.tsaplots import plot_acf\n",
    "# from sklearn.metrics import mean_squared_error\n",
    "# from sklearn import preprocessing\n",
    "import warnings\n",
    "warnings.filterwarnings('ignore')\n",
    "sns.set()"
   ]
  },
  {
   "cell_type": "code",
   "execution_count": 2,
   "metadata": {},
   "outputs": [],
   "source": [
    "path = \"E:/Documents/Alagasan/PG/Projects/Main Project/Sales DB/\""
   ]
  },
  {
   "cell_type": "code",
   "execution_count": 3,
   "metadata": {},
   "outputs": [],
   "source": [
    "df = pd.read_excel(path+\"Retail sales.xlsx\")"
   ]
  },
  {
   "cell_type": "code",
   "execution_count": 4,
   "metadata": {},
   "outputs": [],
   "source": [
    "df1 = pd.read_excel(path+\"Retail sales 2.xlsx\")"
   ]
  },
  {
   "cell_type": "code",
   "execution_count": 5,
   "metadata": {},
   "outputs": [
    {
     "data": {
      "text/plain": [
       "(1010640, 52)"
      ]
     },
     "execution_count": 5,
     "metadata": {},
     "output_type": "execute_result"
    }
   ],
   "source": [
    "df.shape"
   ]
  },
  {
   "cell_type": "code",
   "execution_count": 6,
   "metadata": {},
   "outputs": [
    {
     "data": {
      "text/plain": [
       "(236344, 52)"
      ]
     },
     "execution_count": 6,
     "metadata": {},
     "output_type": "execute_result"
    }
   ],
   "source": [
    "df1.shape"
   ]
  },
  {
   "cell_type": "code",
   "execution_count": 7,
   "metadata": {},
   "outputs": [],
   "source": [
    "dft = pd.concat([df,df1],axis=0)"
   ]
  },
  {
   "cell_type": "code",
   "execution_count": 8,
   "metadata": {},
   "outputs": [
    {
     "data": {
      "text/plain": [
       "(1246984, 52)"
      ]
     },
     "execution_count": 8,
     "metadata": {},
     "output_type": "execute_result"
    }
   ],
   "source": [
    "dft.shape"
   ]
  },
  {
   "cell_type": "code",
   "execution_count": null,
   "metadata": {},
   "outputs": [],
   "source": []
  },
  {
   "cell_type": "code",
   "execution_count": null,
   "metadata": {},
   "outputs": [],
   "source": [
    "df.describe()"
   ]
  },
  {
   "cell_type": "code",
   "execution_count": null,
   "metadata": {},
   "outputs": [],
   "source": [
    "dft.describe(include='object')\n",
    "# unique tells total type of data\n",
    "# top tells top data which is repeated often\n",
    "# feq tells number of top data"
   ]
  },
  {
   "cell_type": "code",
   "execution_count": null,
   "metadata": {},
   "outputs": [],
   "source": [
    "dft = dft.sort_values(by=[\"Created Date\"])#sorting data frame date wise"
   ]
  },
  {
   "cell_type": "code",
   "execution_count": null,
   "metadata": {},
   "outputs": [],
   "source": [
    "imp_df = dft[[\"MRP\",\"Unit Selling Price\",\"Quantity\",'Discount',\n",
    " 'Sales Return/Refunded Qty',\n",
    " 'Sales Return/Refunded Amount',\n",
    " 'Sales Return/Refunded Tax',\n",
    " 'Sales Returns/Total Refunds',\n",
    " 'Items Sold',\n",
    " 'Gross Sales',\n",
    " 'Net Sales(Gross Sales - Sales Return/Refunded Amount - Discounted Amount)',\n",
    " 'Net Tax Collected(Total Tax - Discounted Tax - Sales Return/Refunded Tax)',\n",
    " 'Net Total(Net Sales + Net Tax Collected)']]"
   ]
  },
  {
   "cell_type": "code",
   "execution_count": null,
   "metadata": {},
   "outputs": [],
   "source": [
    "plt.subplots(figsize=(25,25))\n",
    "sns.heatmap(imp_df.corr(),annot=True)"
   ]
  },
  {
   "cell_type": "code",
   "execution_count": null,
   "metadata": {},
   "outputs": [],
   "source": [
    "plt.subplots(figsize=(9,9))\n",
    "dft.groupby(\"Location Name\")[\"Gross Sales\"].sum().sort_values(ascending=False).plot(kind=\"pie\",autopct=\"%.2f\")"
   ]
  },
  {
   "cell_type": "code",
   "execution_count": null,
   "metadata": {},
   "outputs": [],
   "source": [
    "plt.subplots(figsize=(9,9))\n",
    "dft.groupby(\"Employee Name\")[\"Gross Sales\"].sum().sort_values(ascending=False).head(10).plot(kind=\"pie\",autopct=\"%.2f\")"
   ]
  },
  {
   "cell_type": "code",
   "execution_count": null,
   "metadata": {},
   "outputs": [],
   "source": [
    "plt.subplots(figsize=(9,9))\n",
    "dft.groupby(\"Category\")[\"Gross Sales\"].sum().sort_values(ascending=False).head(10).plot(kind=\"pie\",autopct=\"%.2f\")"
   ]
  },
  {
   "cell_type": "code",
   "execution_count": null,
   "metadata": {},
   "outputs": [],
   "source": [
    "dft[\"Created_month\"]=dft[\"Created Date\"].dt.month_name()"
   ]
  },
  {
   "cell_type": "code",
   "execution_count": null,
   "metadata": {},
   "outputs": [],
   "source": [
    "dft[dft.Category==\"Vegetables\"].groupby(\"Created_month\")['Gross Sales'].sum()"
   ]
  },
  {
   "cell_type": "code",
   "execution_count": null,
   "metadata": {},
   "outputs": [],
   "source": [
    "dft[\"Created_week\"] = dft[\"Created Date\"].dt.week"
   ]
  },
  {
   "cell_type": "code",
   "execution_count": null,
   "metadata": {},
   "outputs": [],
   "source": [
    "# Removing 27th week because there is not enough data points\n",
    "dft = dft[dft.Created_week!=27]"
   ]
  },
  {
   "cell_type": "code",
   "execution_count": null,
   "metadata": {},
   "outputs": [],
   "source": [
    "dft.groupby(by=['Created_week'],as_index=False)['Gross Sales'].count()"
   ]
  },
  {
   "cell_type": "code",
   "execution_count": null,
   "metadata": {},
   "outputs": [],
   "source": [
    "dft_final = dft.groupby(by=['Created_week'],as_index=False)['Gross Sales'].sum()"
   ]
  },
  {
   "cell_type": "code",
   "execution_count": null,
   "metadata": {},
   "outputs": [],
   "source": [
    "dft_final = dft_final.sort_values(by=['Created_week'],ascending=True)"
   ]
  },
  {
   "cell_type": "code",
   "execution_count": null,
   "metadata": {},
   "outputs": [],
   "source": [
    "# dft_final[\"Created_week\"] = dft_final[\"Created_week\"].apply(lambda x: \"week \"+str(x))"
   ]
  },
  {
   "cell_type": "code",
   "execution_count": null,
   "metadata": {},
   "outputs": [],
   "source": [
    "dft_final = dft_final.set_index(\"Created_week\")"
   ]
  },
  {
   "cell_type": "code",
   "execution_count": null,
   "metadata": {},
   "outputs": [],
   "source": [
    "plt.subplots(figsize=(20,7))\n",
    "plt.plot(dft_final[\"Gross Sales\"])\n",
    "plt.title(\"Total Gross Sales\")"
   ]
  },
  {
   "cell_type": "code",
   "execution_count": null,
   "metadata": {},
   "outputs": [],
   "source": [
    "def rolling_statistics(dataframe):\n",
    "    (plt.subplots(figsize=(20,7)))\n",
    "    (plt.plot(dft_final.rolling(window=6).mean(),color='b',label='Mean'))\n",
    "    (plt.plot(dft_final.rolling(window=6).std(),color='r',label='Standard deviation'))\n",
    "    (plt.legend(loc='best'))\n",
    "    (plt.xlabel(\"Week\",color='k'))\n",
    "    (plt.ylabel(\"Commercial TON\",color='k'))\n",
    "    plt.title(\"Rolling test statistics\")"
   ]
  },
  {
   "cell_type": "code",
   "execution_count": null,
   "metadata": {},
   "outputs": [],
   "source": [
    "def adf(dataframe_column):\n",
    "    df_test = adfuller(dataframe_column,autolag='AIC')\n",
    "    print(\"P-value for ADF test- \",df_test[1])\n",
    "    if df_test[1] > 0.05:\n",
    "        print(\"The data is not stationery\")\n",
    "    else:\n",
    "        print(\"The data is stationery\")"
   ]
  },
  {
   "cell_type": "code",
   "execution_count": null,
   "metadata": {},
   "outputs": [],
   "source": [
    "def transformation(dataframe_column):\n",
    "    return np.log(dataframe_column)"
   ]
  },
  {
   "cell_type": "code",
   "execution_count": null,
   "metadata": {},
   "outputs": [],
   "source": [
    "rolling_statistics(dft_final)"
   ]
  },
  {
   "cell_type": "code",
   "execution_count": null,
   "metadata": {},
   "outputs": [],
   "source": [
    "print(\"There is variance, data does not look stationery\")"
   ]
  },
  {
   "cell_type": "code",
   "execution_count": null,
   "metadata": {},
   "outputs": [],
   "source": [
    "# Checking auto-correlation\n",
    "plot_acf(dft_final)"
   ]
  },
  {
   "cell_type": "code",
   "execution_count": null,
   "metadata": {},
   "outputs": [],
   "source": [
    "adf(dft_final['Gross Sales'])"
   ]
  },
  {
   "cell_type": "code",
   "execution_count": null,
   "metadata": {},
   "outputs": [],
   "source": [
    "splot=seasonal_decompose(dft_final,model='additive',freq=2)\n",
    "splot.plot()"
   ]
  },
  {
   "cell_type": "code",
   "execution_count": null,
   "metadata": {},
   "outputs": [],
   "source": [
    "# Below steps to make data stationery"
   ]
  },
  {
   "cell_type": "code",
   "execution_count": null,
   "metadata": {},
   "outputs": [],
   "source": [
    "dft_logged = transformation(dft_final)"
   ]
  },
  {
   "cell_type": "code",
   "execution_count": null,
   "metadata": {},
   "outputs": [],
   "source": [
    "dft_diff = dft_logged.diff(axis = 0, periods = 1).dropna()\n",
    "# Differencing will make first week data 'nan - not a number'"
   ]
  },
  {
   "cell_type": "code",
   "execution_count": null,
   "metadata": {},
   "outputs": [],
   "source": [
    "adf(dft_diff)"
   ]
  },
  {
   "cell_type": "code",
   "execution_count": null,
   "metadata": {},
   "outputs": [],
   "source": [
    "dft_diff.shape"
   ]
  },
  {
   "cell_type": "code",
   "execution_count": null,
   "metadata": {},
   "outputs": [],
   "source": [
    "# below steps to split data into test and train"
   ]
  },
  {
   "cell_type": "code",
   "execution_count": null,
   "metadata": {},
   "outputs": [],
   "source": [
    "df_train = dft_diff[0:20]\n",
    "df_test = dft_diff[20:]"
   ]
  },
  {
   "cell_type": "code",
   "execution_count": null,
   "metadata": {},
   "outputs": [],
   "source": [
    "# below steps to find best parameters for model"
   ]
  },
  {
   "cell_type": "code",
   "execution_count": null,
   "metadata": {},
   "outputs": [],
   "source": [
    "p=i=q=range(0,5)\n",
    "piq = itertools.product(p,i,q)\n",
    "piq=list(piq)"
   ]
  },
  {
   "cell_type": "code",
   "execution_count": null,
   "metadata": {},
   "outputs": [],
   "source": [
    "for param in piq:\n",
    "    try:\n",
    "        model = ARIMA(df_train,order=param)\n",
    "        results_AR = model.fit(disp=-1)\n",
    "        print(param,results_AR.aic)\n",
    "    except:\n",
    "        continue\n",
    "#checking the combination in which is error is less\n",
    "#arima=it is a linera line with combination of auto regression and moving avg., it is one of the best model"
   ]
  },
  {
   "cell_type": "code",
   "execution_count": null,
   "metadata": {},
   "outputs": [],
   "source": [
    "# below we are fitting the model"
   ]
  },
  {
   "cell_type": "code",
   "execution_count": null,
   "metadata": {},
   "outputs": [],
   "source": [
    "model = ARIMA(df_train,order=(4, 0, 1))\n",
    "results_AR = model.fit()\n",
    "print(param,results_AR.aic)\n",
    "\n",
    "#using 4,4,4 bcz is fits the model"
   ]
  },
  {
   "cell_type": "code",
   "execution_count": null,
   "metadata": {},
   "outputs": [],
   "source": [
    "print(\"Printing predictions\")\n",
    "results_AR.predict(start=20,end=27)"
   ]
  },
  {
   "cell_type": "code",
   "execution_count": null,
   "metadata": {},
   "outputs": [],
   "source": [
    "plt.plot(df_test,color=\"r\")\n",
    "plt.plot(results_AR.predict(start=20,end=27),color='g')\n",
    "plt.title(\"Test data vs prediction\")\n",
    "plt.legend([\"Test data\", \"predicted data\"], loc =\"top right\")"
   ]
  },
  {
   "cell_type": "code",
   "execution_count": null,
   "metadata": {},
   "outputs": [],
   "source": [
    "results_AR.plot_predict(1,25)"
   ]
  },
  {
   "cell_type": "code",
   "execution_count": null,
   "metadata": {},
   "outputs": [],
   "source": [
    "# Following code normalizes the test data (predicted data)"
   ]
  },
  {
   "cell_type": "code",
   "execution_count": null,
   "metadata": {},
   "outputs": [],
   "source": [
    "cols = dft_logged.columns\n",
    "x = []\n",
    "for col in cols:\n",
    "    diff_results = dft_logged[col] + results_AR.predict(start=1,end=26).shift(-1)\n",
    "    x.append(diff_results)\n",
    "diff_df_inverted = pd.concat(x, axis=1)\n"
   ]
  },
  {
   "cell_type": "code",
   "execution_count": null,
   "metadata": {},
   "outputs": [],
   "source": [
    "predicted_dataframe = np.exp(diff_df_inverted[:-1]).astype(str)"
   ]
  },
  {
   "cell_type": "code",
   "execution_count": null,
   "metadata": {},
   "outputs": [],
   "source": [
    "predicted_dataframe = predicted_dataframe.rename(columns={0:\"Gross Sales\"})"
   ]
  },
  {
   "cell_type": "code",
   "execution_count": null,
   "metadata": {},
   "outputs": [],
   "source": [
    "predicted_dataframe['Gross Sales'] = predicted_dataframe['Gross Sales'].str.split(\".\",expand=True)[0]"
   ]
  },
  {
   "cell_type": "code",
   "execution_count": null,
   "metadata": {},
   "outputs": [],
   "source": [
    "predicted_dataframe[21:]"
   ]
  },
  {
   "cell_type": "code",
   "execution_count": null,
   "metadata": {},
   "outputs": [],
   "source": [
    "dfl=dft.groupby(by=['Location Name'],as_index=False)['Gross Sales'].sum()\n",
    "dfl"
   ]
  },
  {
   "cell_type": "code",
   "execution_count": null,
   "metadata": {},
   "outputs": [],
   "source": []
  }
 ],
 "metadata": {
  "kernelspec": {
   "display_name": "Python 3",
   "language": "python",
   "name": "python3"
  },
  "language_info": {
   "codemirror_mode": {
    "name": "ipython",
    "version": 3
   },
   "file_extension": ".py",
   "mimetype": "text/x-python",
   "name": "python",
   "nbconvert_exporter": "python",
   "pygments_lexer": "ipython3",
   "version": "3.7.6"
  }
 },
 "nbformat": 4,
 "nbformat_minor": 4
}
